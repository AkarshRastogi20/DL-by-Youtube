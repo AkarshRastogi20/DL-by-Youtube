{
  "nbformat": 4,
  "nbformat_minor": 0,
  "metadata": {
    "colab": {
      "provenance": [],
      "gpuType": "T4"
    },
    "kernelspec": {
      "name": "python3",
      "display_name": "Python 3"
    },
    "language_info": {
      "name": "python"
    },
    "accelerator": "GPU"
  },
  "cells": [
    {
      "cell_type": "code",
      "execution_count": 6,
      "metadata": {
        "id": "bmaQHUHxlItu"
      },
      "outputs": [],
      "source": [
        "import keras"
      ]
    },
    {
      "cell_type": "code",
      "source": [
        "from keras.preprocessing.image import ImageDataGenerator, array_to_img, img_to_array, load_img"
      ],
      "metadata": {
        "id": "_x-C_oK5mgac"
      },
      "execution_count": 7,
      "outputs": []
    },
    {
      "cell_type": "code",
      "source": [
        "datagen=ImageDataGenerator(\n",
        "    rotation_range=40,\n",
        "    width_shift_range=0.2,\n",
        "    height_shift_range=0.2,\n",
        "    shear_range=0.2,\n",
        "    zoom_range=0.2,\n",
        "    horizontal_flip=True)\n",
        "\n",
        "img=load_img('/content/cat_image.jpg')\n",
        "x=img_to_array(img) # for converting image into array\n",
        "x=x.reshape((1,)+x.shape) # for reshaping x into 4 dimensional array\n",
        "\n",
        "# .flow generate batches of images in a random way and save to directory\n",
        "i=0\n",
        "for batch in datagen.flow(x,batch_size=1,save_to_dir=r'C:\\Users\\SONY\\Desktop\\Downloads',save_prefix=r'C:\\Users\\SONY\\Desktop\\Downloads\\cat_detector',save_format='jpeg'):\n",
        "  i+=1\n",
        "  if i>20:\n",
        "    break"
      ],
      "metadata": {
        "id": "ryHIULOBq6uJ"
      },
      "execution_count": null,
      "outputs": []
    }
  ]
}