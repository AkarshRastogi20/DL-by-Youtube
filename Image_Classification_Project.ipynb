{
  "nbformat": 4,
  "nbformat_minor": 0,
  "metadata": {
    "colab": {
      "provenance": []
    },
    "kernelspec": {
      "name": "python3",
      "display_name": "Python 3"
    },
    "language_info": {
      "name": "python"
    }
  },
  "cells": [
    {
      "cell_type": "markdown",
      "source": [
        "**Create template folder and their files**"
      ],
      "metadata": {
        "id": "1HpE_CmCqGfN"
      }
    },
    {
      "cell_type": "code",
      "source": [
        "# Create the template folder\n",
        "!mkdir template"
      ],
      "metadata": {
        "id": "ALQYSZmkqEor"
      },
      "execution_count": 1,
      "outputs": []
    },
    {
      "cell_type": "code",
      "source": [
        "# Create index.html file into template folder\n",
        "\n",
        "%%writefile template/index.html\n",
        "\n",
        "{% extends \"base.html\" %} {% block content %}\n",
        "\n",
        "<h2>Image Classifier</h2>\n",
        "\n",
        "<div>\n",
        "    <form id=\"upload-file\" method=\"post\" enctype=\"multipart/form-data\">\n",
        "        <label for=\"imageUpload\" class=\"upload-label\">\n",
        "            Choose...\n",
        "        </label>\n",
        "        <input type=\"file\" name=\"file\" id=\"imageUpload\" accept=\".png, .jpg, .jpeg\">\n",
        "    </form>\n",
        "\n",
        "    <div class=\"image-section\" style=\"display:none;\">\n",
        "        <div class=\"img-preview\">\n",
        "            <div id=\"imagePreview\">\n",
        "            </div>\n",
        "        </div>\n",
        "        <div>\n",
        "            <button type=\"button\" class=\"btn btn-primary btn-lg \" id=\"btn-predict\">Predict!</button>\n",
        "        </div>\n",
        "    </div>\n",
        "\n",
        "    <div class=\"loader\" style=\"display:none;\"></div>\n",
        "\n",
        "    <h3 id=\"result\">\n",
        "        <span> </span>\n",
        "    </h3>\n",
        "\n",
        "</div>\n",
        "\n",
        "{% endblock %}"
      ],
      "metadata": {
        "colab": {
          "base_uri": "https://localhost:8080/"
        },
        "id": "CRySMzwQqPT6",
        "outputId": "93139d67-d053-4d2e-f7d3-a9b862d38340"
      },
      "execution_count": 2,
      "outputs": [
        {
          "output_type": "stream",
          "name": "stdout",
          "text": [
            "Writing template/index.html\n"
          ]
        }
      ]
    },
    {
      "cell_type": "code",
      "source": [
        "# Create base.html file into template folder\n",
        "\n",
        "%%writefile template/base.html\n",
        "\n",
        "<html lang=\"en\">\n",
        "\n",
        "<head>\n",
        "    <meta charset=\"UTF-8\">\n",
        "    <meta name=\"viewport\" content=\"width=device-width, initial-scale=1.0\">\n",
        "    <meta http-equiv=\"X-UA-Compatible\" content=\"ie=edge\">\n",
        "    <title>AI Demo</title>\n",
        "    <link href=\"https://cdn.bootcss.com/bootstrap/4.0.0/css/bootstrap.min.css\" rel=\"stylesheet\">\n",
        "    <script src=\"https://cdn.bootcss.com/popper.js/1.12.9/umd/popper.min.js\"></script>\n",
        "    <script src=\"https://cdn.bootcss.com/jquery/3.3.1/jquery.min.js\"></script>\n",
        "    <script src=\"https://cdn.bootcss.com/bootstrap/4.0.0/js/bootstrap.min.js\"></script>\n",
        "    <link href=\"{{ url_for('static', filename='css/main.css') }}\" rel=\"stylesheet\">\n",
        "</head>\n",
        "\n",
        "<body>\n",
        "    <nav class=\"navbar navbar-dark bg-dark\">\n",
        "        <div class=\"container\">\n",
        "            <a class=\"navbar-brand\" href=\"#\">AI Demo</a>\n",
        "            <button class=\"btn btn-outline-secondary my-2 my-sm-0\" type=\"submit\">Help</button>\n",
        "        </div>\n",
        "    </nav>\n",
        "    <div class=\"container\">\n",
        "        <div id=\"content\" style=\"margin-top:2em\">{% block content %}{% endblock %}</div>\n",
        "    </div>\n",
        "</body>\n",
        "\n",
        "<footer>\n",
        "    <script src=\"{{ url_for('static', filename='js/main.js') }}\" type=\"text/javascript\"></script>\n",
        "</footer>\n",
        "\n",
        "</html>"
      ],
      "metadata": {
        "colab": {
          "base_uri": "https://localhost:8080/"
        },
        "id": "TsvMnNMmqPaz",
        "outputId": "252e2db4-9fde-4d0d-d854-bd6b2bb7d665"
      },
      "execution_count": 3,
      "outputs": [
        {
          "output_type": "stream",
          "name": "stdout",
          "text": [
            "Writing template/base.html\n"
          ]
        }
      ]
    },
    {
      "cell_type": "markdown",
      "source": [
        "**Create transfer learning file**"
      ],
      "metadata": {
        "id": "nxZPKHxFwqNN"
      }
    },
    {
      "cell_type": "code",
      "source": [
        "# Keras\n",
        "from tensorflow.keras.applications.imagenet_utils import preprocess_input, decode_predictions #for tensorflow 2.0\n",
        "from tensorflow.keras.models import load_model\n",
        "from tensorflow.keras.preprocessing import image"
      ],
      "metadata": {
        "id": "WtaNyRo_vIUH"
      },
      "execution_count": 6,
      "outputs": []
    },
    {
      "cell_type": "code",
      "source": [
        "from tensorflow.keras.applications.vgg19 import VGG19 #vgg19 model can classify many classes"
      ],
      "metadata": {
        "id": "9EE79-6dvIcU"
      },
      "execution_count": 7,
      "outputs": []
    },
    {
      "cell_type": "code",
      "source": [
        "model=VGG19(weights=\"imagenet\")"
      ],
      "metadata": {
        "colab": {
          "base_uri": "https://localhost:8080/"
        },
        "id": "-Uyo6hCYvIih",
        "outputId": "ea070ad4-63c9-4484-c5f1-dd2a26b733b2"
      },
      "execution_count": 8,
      "outputs": [
        {
          "output_type": "stream",
          "name": "stdout",
          "text": [
            "Downloading data from https://storage.googleapis.com/tensorflow/keras-applications/vgg19/vgg19_weights_tf_dim_ordering_tf_kernels.h5\n",
            "574710816/574710816 [==============================] - 15s 0us/step\n"
          ]
        }
      ]
    },
    {
      "cell_type": "code",
      "source": [
        "model.save('vgg19.h5')"
      ],
      "metadata": {
        "colab": {
          "base_uri": "https://localhost:8080/"
        },
        "id": "QG2ShOccvQmy",
        "outputId": "6ecabcd7-f264-4208-89f0-aeab4de66960"
      },
      "execution_count": 9,
      "outputs": [
        {
          "output_type": "stream",
          "name": "stderr",
          "text": [
            "/usr/local/lib/python3.10/dist-packages/keras/src/engine/training.py:3103: UserWarning: You are saving your model as an HDF5 file via `model.save()`. This file format is considered legacy. We recommend using instead the native Keras format, e.g. `model.save('my_model.keras')`.\n",
            "  saving_api.save_model(\n",
            "WARNING:tensorflow:Compiled the loaded model, but the compiled metrics have yet to be built. `model.compile_metrics` will be empty until you train or evaluate the model.\n"
          ]
        }
      ]
    },
    {
      "cell_type": "markdown",
      "source": [
        "**Create flask app**"
      ],
      "metadata": {
        "id": "tBEEIG-Iwe2K"
      }
    },
    {
      "cell_type": "code",
      "execution_count": 11,
      "metadata": {
        "colab": {
          "base_uri": "https://localhost:8080/"
        },
        "id": "TgP_mndQmeEL",
        "outputId": "1804728c-f690-499e-bfdf-91dca661ae5f"
      },
      "outputs": [
        {
          "output_type": "stream",
          "name": "stdout",
          "text": [
            "Requirement already satisfied: gevent in /usr/local/lib/python3.10/dist-packages (24.2.1)\n",
            "Requirement already satisfied: zope.event in /usr/local/lib/python3.10/dist-packages (from gevent) (5.0)\n",
            "Requirement already satisfied: zope.interface in /usr/local/lib/python3.10/dist-packages (from gevent) (6.2)\n",
            "Requirement already satisfied: greenlet>=2.0.0 in /usr/local/lib/python3.10/dist-packages (from gevent) (3.0.3)\n",
            "Requirement already satisfied: setuptools in /usr/local/lib/python3.10/dist-packages (from zope.event->gevent) (67.7.2)\n"
          ]
        },
        {
          "output_type": "stream",
          "name": "stderr",
          "text": [
            "WARNING:tensorflow:No training configuration found in the save file, so the model was *not* compiled. Compile it manually.\n"
          ]
        },
        {
          "output_type": "stream",
          "name": "stdout",
          "text": [
            " * Serving Flask app '__main__'\n",
            " * Debug mode: on\n"
          ]
        },
        {
          "output_type": "stream",
          "name": "stderr",
          "text": [
            "INFO:werkzeug:\u001b[31m\u001b[1mWARNING: This is a development server. Do not use it in a production deployment. Use a production WSGI server instead.\u001b[0m\n",
            " * Running on http://127.0.0.1:5000\n",
            "INFO:werkzeug:\u001b[33mPress CTRL+C to quit\u001b[0m\n",
            "INFO:werkzeug: * Restarting with stat\n"
          ]
        }
      ],
      "source": [
        "from __future__ import division, print_function\n",
        "# coding=utf-8\n",
        "import sys\n",
        "import os\n",
        "import glob\n",
        "import re\n",
        "import numpy as np\n",
        "\n",
        "# Keras\n",
        "from tensorflow.keras.applications.imagenet_utils import preprocess_input, decode_predictions\n",
        "from tensorflow.keras.models import load_model\n",
        "from tensorflow.keras.preprocessing import image\n",
        "\n",
        "# Flask utils\n",
        "!pip install gevent\n",
        "from flask import Flask, redirect, url_for, request, render_template\n",
        "from werkzeug.utils import secure_filename\n",
        "from gevent.pywsgi import WSGIServer\n",
        "\n",
        "# Define a flask app\n",
        "app = Flask(__name__)\n",
        "\n",
        "# Model saved with Keras model.save()\n",
        "MODEL_PATH = '/content/vgg19.h5'\n",
        "\n",
        "# Load your trained model\n",
        "model = load_model(MODEL_PATH)\n",
        "          # Necessary\n",
        "\n",
        "\n",
        "\n",
        "def model_predict(img_path, model):\n",
        "    img = image.load_img(img_path, target_size=(224, 224))\n",
        "\n",
        "    # Preprocessing the image\n",
        "    x = image.img_to_array(img)\n",
        "    # x = np.true_divide(x, 255)\n",
        "    x = np.expand_dims(x, axis=0)\n",
        "\n",
        "    # Be careful how your trained model deals with the input\n",
        "    # otherwise, it won't make correct prediction!\n",
        "    x = preprocess_input(x)\n",
        "\n",
        "    preds = model.predict(x)\n",
        "    return preds\n",
        "\n",
        "\n",
        "@app.route('/', methods=['GET'])\n",
        "def index():\n",
        "    # Main page\n",
        "    return render_template('/content/template/index.html') #index file work as a UI(User Interface)\n",
        "\n",
        "\n",
        "@app.route('/predict', methods=['GET', 'POST'])\n",
        "def upload():\n",
        "    if request.method == 'POST':\n",
        "        # Get the file from post request\n",
        "        f = request.files['file']\n",
        "\n",
        "        # Save the file to ./uploads\n",
        "        basepath = os.path.dirname(__file__)\n",
        "        file_path = os.path.join(\n",
        "            basepath, 'uploads', secure_filename(f.filename))\n",
        "        f.save(file_path)\n",
        "\n",
        "        # Make prediction\n",
        "        preds = model_predict(file_path, model)\n",
        "\n",
        "        # Process your result for human\n",
        "        # pred_class = preds.argmax(axis=-1)            # Simple argmax\n",
        "        pred_class = decode_predictions(preds, top=1)   # ImageNet Decode\n",
        "        result = str(pred_class[0][0][1])               # Convert to string\n",
        "        return result\n",
        "    return None\n",
        "\n",
        "\n",
        "if __name__ == '__main__':\n",
        "    app.run(debug=True)"
      ]
    },
    {
      "cell_type": "code",
      "source": [],
      "metadata": {
        "id": "mtGRZ0K7tAkz"
      },
      "execution_count": null,
      "outputs": []
    }
  ]
}